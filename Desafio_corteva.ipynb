{
  "nbformat": 4,
  "nbformat_minor": 0,
  "metadata": {
    "colab": {
      "name": "Desafio- corteva.ipynb",
      "provenance": [],
      "collapsed_sections": [],
      "authorship_tag": "ABX9TyPA05GF0usiAHM6drazQmKH",
      "include_colab_link": true
    },
    "kernelspec": {
      "name": "python3",
      "display_name": "Python 3"
    }
  },
  "cells": [
    {
      "cell_type": "markdown",
      "metadata": {
        "id": "view-in-github",
        "colab_type": "text"
      },
      "source": [
        "<a href=\"https://colab.research.google.com/github/fillipesansilva/machine-learning-in-practice/blob/master/Desafio_corteva.ipynb\" target=\"_parent\"><img src=\"https://colab.research.google.com/assets/colab-badge.svg\" alt=\"Open In Colab\"/></a>"
      ]
    },
    {
      "cell_type": "markdown",
      "metadata": {
        "id": "n6IYJOsxfgZv"
      },
      "source": [
        ""
      ]
    },
    {
      "cell_type": "code",
      "metadata": {
        "id": "cyUzttcafomq",
        "colab": {
          "base_uri": "https://localhost:8080/"
        },
        "outputId": "c2c1c060-232c-4bbb-c3c0-bb5c9ffc9da9"
      },
      "source": [
        "from google.colab import drive\n",
        "drive.mount('/content/drive')"
      ],
      "execution_count": null,
      "outputs": [
        {
          "output_type": "stream",
          "text": [
            "Drive already mounted at /content/drive; to attempt to forcibly remount, call drive.mount(\"/content/drive\", force_remount=True).\n"
          ],
          "name": "stdout"
        }
      ]
    },
    {
      "cell_type": "markdown",
      "metadata": {
        "id": "D4KGQiGQ1ro7"
      },
      "source": [
        "### **Objetivo do teste 1**\r\n",
        "\r\n",
        "Usar a aba dataset \r\n",
        "1. Criar um modelo usando SVM pra prever\r\n",
        "    1.   previsao A ( coluna G do dataset) - resultado deve ser numerico\r\n",
        "    2.   previsao B ( coluna H do dataset) - resultado deve ser categorico\r\n",
        "\r\n",
        "\r\n",
        "**Importante:** \r\n",
        "\r\n",
        "1. Balancear as classes antes de criar o modelo\r\n",
        "2. Usar as features para tentar prever a. e b.\r\n",
        "3. Testar mais de um kernel\r\n",
        "4. reportar a acuracia balanceada no conjunto de validacao\r\n",
        "5. Dividir os dados em treino e validacao  (80 e20)"
      ]
    },
    {
      "cell_type": "code",
      "metadata": {
        "id": "S6moduIp1UkD"
      },
      "source": [
        "import pandas as pd\r\n",
        "import numpy as np\r\n",
        "from pandas import datetime\r\n",
        "import matplotlib.pyplot as plt\r\n",
        "import seaborn as sns\r\n",
        "from sklearn.model_selection import train_test_split\r\n",
        "from sklearn.model_selection import GridSearchCV\r\n",
        "from sklearn.svm import SVC\r\n",
        "from sklearn import svm\r\n",
        "from sklearn.model_selection import cross_val_score\r\n",
        "from scipy.stats.stats import pearsonr\r\n",
        "from numpy import mean\r\n",
        "from numpy import std\r\n",
        "from sklearn.metrics import accuracy_score, precision_score, recall_score, roc_curve"
      ],
      "execution_count": null,
      "outputs": []
    },
    {
      "cell_type": "code",
      "metadata": {
        "id": "ATQLUB4ofCqR",
        "colab": {
          "base_uri": "https://localhost:8080/",
          "height": 194
        },
        "outputId": "4d3304ad-ee17-4129-b6b3-7b6eeb5977e8"
      },
      "source": [
        "xls = pd.ExcelFile(\"/content/drive/My Drive/Colab Notebooks/datasets/desafio-cientista-de-dados.xlsx\")\n",
        "df = pd.read_excel(xls, 'Dataset')\n",
        "df.head()\n"
      ],
      "execution_count": null,
      "outputs": [
        {
          "output_type": "execute_result",
          "data": {
            "text/html": [
              "<div>\n",
              "<style scoped>\n",
              "    .dataframe tbody tr th:only-of-type {\n",
              "        vertical-align: middle;\n",
              "    }\n",
              "\n",
              "    .dataframe tbody tr th {\n",
              "        vertical-align: top;\n",
              "    }\n",
              "\n",
              "    .dataframe thead th {\n",
              "        text-align: right;\n",
              "    }\n",
              "</style>\n",
              "<table border=\"1\" class=\"dataframe\">\n",
              "  <thead>\n",
              "    <tr style=\"text-align: right;\">\n",
              "      <th></th>\n",
              "      <th>FEATURE 6</th>\n",
              "      <th>FEATURE 5</th>\n",
              "      <th>FEATURE 4</th>\n",
              "      <th>FEATURE 1</th>\n",
              "      <th>FEATURE 2</th>\n",
              "      <th>FEATURE 3</th>\n",
              "      <th>Previsao A</th>\n",
              "      <th>Previsao B</th>\n",
              "      <th>Unnamed: 8</th>\n",
              "      <th>Unnamed: 9</th>\n",
              "    </tr>\n",
              "  </thead>\n",
              "  <tbody>\n",
              "    <tr>\n",
              "      <th>0</th>\n",
              "      <td>2020-01-03</td>\n",
              "      <td>12:06:57</td>\n",
              "      <td>C021K13101</td>\n",
              "      <td>1180227</td>\n",
              "      <td>109B1L</td>\n",
              "      <td>10.060</td>\n",
              "      <td>0,955</td>\n",
              "      <td>BOM</td>\n",
              "      <td>NaN</td>\n",
              "      <td>NaN</td>\n",
              "    </tr>\n",
              "    <tr>\n",
              "      <th>1</th>\n",
              "      <td>2020-01-03</td>\n",
              "      <td>21:19:00</td>\n",
              "      <td>C021K13102</td>\n",
              "      <td>1180227</td>\n",
              "      <td>109B1L</td>\n",
              "      <td>10.052</td>\n",
              "      <td>0,955</td>\n",
              "      <td>BOM</td>\n",
              "      <td>NaN</td>\n",
              "      <td>NaN</td>\n",
              "    </tr>\n",
              "    <tr>\n",
              "      <th>2</th>\n",
              "      <td>2020-01-04</td>\n",
              "      <td>13:34:55</td>\n",
              "      <td>C021K14101</td>\n",
              "      <td>1180227</td>\n",
              "      <td>109B1L</td>\n",
              "      <td>10.040</td>\n",
              "      <td>0,955</td>\n",
              "      <td>BOM</td>\n",
              "      <td>NaN</td>\n",
              "      <td>NaN</td>\n",
              "    </tr>\n",
              "    <tr>\n",
              "      <th>3</th>\n",
              "      <td>2020-01-04</td>\n",
              "      <td>17:30:46</td>\n",
              "      <td>C021K14102</td>\n",
              "      <td>1180227</td>\n",
              "      <td>109B1M</td>\n",
              "      <td>10.028</td>\n",
              "      <td>0,955</td>\n",
              "      <td>BOM</td>\n",
              "      <td>NaN</td>\n",
              "      <td>NaN</td>\n",
              "    </tr>\n",
              "    <tr>\n",
              "      <th>4</th>\n",
              "      <td>2020-01-04</td>\n",
              "      <td>23:05:04</td>\n",
              "      <td>C021K14103</td>\n",
              "      <td>1180227</td>\n",
              "      <td>109B1M</td>\n",
              "      <td>10.067</td>\n",
              "      <td>0,955</td>\n",
              "      <td>BOM</td>\n",
              "      <td>NaN</td>\n",
              "      <td>NaN</td>\n",
              "    </tr>\n",
              "  </tbody>\n",
              "</table>\n",
              "</div>"
            ],
            "text/plain": [
              "   FEATURE 6 FEATURE 5   FEATURE 4  ... Previsao B Unnamed: 8  Unnamed: 9\n",
              "0 2020-01-03  12:06:57  C021K13101  ...        BOM        NaN         NaN\n",
              "1 2020-01-03  21:19:00  C021K13102  ...        BOM        NaN         NaN\n",
              "2 2020-01-04  13:34:55  C021K14101  ...        BOM        NaN         NaN\n",
              "3 2020-01-04  17:30:46  C021K14102  ...        BOM        NaN         NaN\n",
              "4 2020-01-04  23:05:04  C021K14103  ...        BOM        NaN         NaN\n",
              "\n",
              "[5 rows x 10 columns]"
            ]
          },
          "metadata": {
            "tags": []
          },
          "execution_count": 3
        }
      ]
    },
    {
      "cell_type": "markdown",
      "metadata": {
        "id": "LGHcGwixBP4q"
      },
      "source": [
        "Formatação 1"
      ]
    },
    {
      "cell_type": "code",
      "metadata": {
        "colab": {
          "base_uri": "https://localhost:8080/",
          "height": 399
        },
        "id": "IxKfsR3mBDeo",
        "outputId": "5d229233-e790-4041-ba84-d62d7b362779"
      },
      "source": [
        "df = df.rename(columns={\"FEATURE 6\": \"date\", \r\n",
        "                        \"FEATURE 5\": \"time\",\r\n",
        "                        \"FEATURE 4\": \"f4\",\r\n",
        "                        \"FEATURE 1\": \"f1\",\r\n",
        "                        \"FEATURE 2\": \"f2\",\r\n",
        "                        \"FEATURE 3\": \"f3\",\r\n",
        "                        \"Previsao A\": \"prevA\",\r\n",
        "                        \"Previsao B\": \"prevB\"     \r\n",
        "                        })\r\n",
        "df = df.loc[:, ~df.columns.str.contains('^Unnamed')]\r\n",
        "df = df.dropna()\r\n",
        "\r\n",
        "df.date = pd.to_datetime(df.date)\r\n",
        "df.date = df.date.apply(lambda x : x.timestamp())\r\n",
        "\r\n",
        "#df.time = pd.to_datetime(df.time,format= '%H:%M:%S' ).dt.time\r\n",
        "df['time'] = df['time'].astype('str').apply(lambda x: x.split(':')[0]).astype('int')\r\n",
        "\r\n",
        "df['prevB'] = df['prevB'].map({'BOM': 1.0, 'RUIM': 0.0})\r\n",
        "df['prevA'] = df['prevA'].apply(lambda x: x.replace(',','.')).astype('float')\r\n",
        "\r\n",
        "df['f1'] = df['f1'].map( dict(zip(df.f1.unique(), range(0,len(df.f1.unique())))))\r\n",
        "df['f2'] = df['f2'].map( dict(zip(df.f2.unique(), range(0,len(df.f2.unique())))))\r\n",
        "df['f4'] = df['f4'].map( dict(zip(df.f4.unique(), range(0,len(df.f4.unique())))))\r\n",
        "\r\n",
        "#df = (df - df.min())/(df.max()-df.min())\r\n",
        "\r\n",
        "df"
      ],
      "execution_count": null,
      "outputs": [
        {
          "output_type": "execute_result",
          "data": {
            "text/html": [
              "<div>\n",
              "<style scoped>\n",
              "    .dataframe tbody tr th:only-of-type {\n",
              "        vertical-align: middle;\n",
              "    }\n",
              "\n",
              "    .dataframe tbody tr th {\n",
              "        vertical-align: top;\n",
              "    }\n",
              "\n",
              "    .dataframe thead th {\n",
              "        text-align: right;\n",
              "    }\n",
              "</style>\n",
              "<table border=\"1\" class=\"dataframe\">\n",
              "  <thead>\n",
              "    <tr style=\"text-align: right;\">\n",
              "      <th></th>\n",
              "      <th>date</th>\n",
              "      <th>time</th>\n",
              "      <th>f4</th>\n",
              "      <th>f1</th>\n",
              "      <th>f2</th>\n",
              "      <th>f3</th>\n",
              "      <th>prevA</th>\n",
              "      <th>prevB</th>\n",
              "    </tr>\n",
              "  </thead>\n",
              "  <tbody>\n",
              "    <tr>\n",
              "      <th>0</th>\n",
              "      <td>1.578010e+09</td>\n",
              "      <td>12</td>\n",
              "      <td>0</td>\n",
              "      <td>0</td>\n",
              "      <td>0</td>\n",
              "      <td>10.060</td>\n",
              "      <td>0.955</td>\n",
              "      <td>1.0</td>\n",
              "    </tr>\n",
              "    <tr>\n",
              "      <th>1</th>\n",
              "      <td>1.578010e+09</td>\n",
              "      <td>21</td>\n",
              "      <td>1</td>\n",
              "      <td>0</td>\n",
              "      <td>0</td>\n",
              "      <td>10.052</td>\n",
              "      <td>0.955</td>\n",
              "      <td>1.0</td>\n",
              "    </tr>\n",
              "    <tr>\n",
              "      <th>2</th>\n",
              "      <td>1.578096e+09</td>\n",
              "      <td>13</td>\n",
              "      <td>2</td>\n",
              "      <td>0</td>\n",
              "      <td>0</td>\n",
              "      <td>10.040</td>\n",
              "      <td>0.955</td>\n",
              "      <td>1.0</td>\n",
              "    </tr>\n",
              "    <tr>\n",
              "      <th>3</th>\n",
              "      <td>1.578096e+09</td>\n",
              "      <td>17</td>\n",
              "      <td>3</td>\n",
              "      <td>0</td>\n",
              "      <td>1</td>\n",
              "      <td>10.028</td>\n",
              "      <td>0.955</td>\n",
              "      <td>1.0</td>\n",
              "    </tr>\n",
              "    <tr>\n",
              "      <th>4</th>\n",
              "      <td>1.578096e+09</td>\n",
              "      <td>23</td>\n",
              "      <td>4</td>\n",
              "      <td>0</td>\n",
              "      <td>1</td>\n",
              "      <td>10.067</td>\n",
              "      <td>0.955</td>\n",
              "      <td>1.0</td>\n",
              "    </tr>\n",
              "    <tr>\n",
              "      <th>...</th>\n",
              "      <td>...</td>\n",
              "      <td>...</td>\n",
              "      <td>...</td>\n",
              "      <td>...</td>\n",
              "      <td>...</td>\n",
              "      <td>...</td>\n",
              "      <td>...</td>\n",
              "      <td>...</td>\n",
              "    </tr>\n",
              "    <tr>\n",
              "      <th>174</th>\n",
              "      <td>1.583194e+09</td>\n",
              "      <td>3</td>\n",
              "      <td>174</td>\n",
              "      <td>1</td>\n",
              "      <td>0</td>\n",
              "      <td>10.051</td>\n",
              "      <td>0.955</td>\n",
              "      <td>1.0</td>\n",
              "    </tr>\n",
              "    <tr>\n",
              "      <th>175</th>\n",
              "      <td>1.583194e+09</td>\n",
              "      <td>6</td>\n",
              "      <td>175</td>\n",
              "      <td>1</td>\n",
              "      <td>0</td>\n",
              "      <td>10.050</td>\n",
              "      <td>0.955</td>\n",
              "      <td>0.0</td>\n",
              "    </tr>\n",
              "    <tr>\n",
              "      <th>176</th>\n",
              "      <td>1.583194e+09</td>\n",
              "      <td>10</td>\n",
              "      <td>176</td>\n",
              "      <td>1</td>\n",
              "      <td>0</td>\n",
              "      <td>10.074</td>\n",
              "      <td>0.955</td>\n",
              "      <td>0.0</td>\n",
              "    </tr>\n",
              "    <tr>\n",
              "      <th>177</th>\n",
              "      <td>1.583194e+09</td>\n",
              "      <td>19</td>\n",
              "      <td>177</td>\n",
              "      <td>1</td>\n",
              "      <td>0</td>\n",
              "      <td>10.050</td>\n",
              "      <td>0.955</td>\n",
              "      <td>0.0</td>\n",
              "    </tr>\n",
              "    <tr>\n",
              "      <th>178</th>\n",
              "      <td>1.583194e+09</td>\n",
              "      <td>22</td>\n",
              "      <td>178</td>\n",
              "      <td>1</td>\n",
              "      <td>0</td>\n",
              "      <td>10.031</td>\n",
              "      <td>0.955</td>\n",
              "      <td>0.0</td>\n",
              "    </tr>\n",
              "  </tbody>\n",
              "</table>\n",
              "<p>179 rows × 8 columns</p>\n",
              "</div>"
            ],
            "text/plain": [
              "             date  time   f4  f1  f2      f3  prevA  prevB\n",
              "0    1.578010e+09    12    0   0   0  10.060  0.955    1.0\n",
              "1    1.578010e+09    21    1   0   0  10.052  0.955    1.0\n",
              "2    1.578096e+09    13    2   0   0  10.040  0.955    1.0\n",
              "3    1.578096e+09    17    3   0   1  10.028  0.955    1.0\n",
              "4    1.578096e+09    23    4   0   1  10.067  0.955    1.0\n",
              "..            ...   ...  ...  ..  ..     ...    ...    ...\n",
              "174  1.583194e+09     3  174   1   0  10.051  0.955    1.0\n",
              "175  1.583194e+09     6  175   1   0  10.050  0.955    0.0\n",
              "176  1.583194e+09    10  176   1   0  10.074  0.955    0.0\n",
              "177  1.583194e+09    19  177   1   0  10.050  0.955    0.0\n",
              "178  1.583194e+09    22  178   1   0  10.031  0.955    0.0\n",
              "\n",
              "[179 rows x 8 columns]"
            ]
          },
          "metadata": {
            "tags": []
          },
          "execution_count": 4
        }
      ]
    },
    {
      "cell_type": "code",
      "metadata": {
        "colab": {
          "base_uri": "https://localhost:8080/"
        },
        "id": "Qup-FQdre0du",
        "outputId": "7fe65ae1-2f20-4950-ff95-e7416c8e34df"
      },
      "source": [
        "df.dtypes"
      ],
      "execution_count": null,
      "outputs": [
        {
          "output_type": "execute_result",
          "data": {
            "text/plain": [
              "date     float64\n",
              "time       int64\n",
              "f4         int64\n",
              "f1         int64\n",
              "f2         int64\n",
              "f3       float64\n",
              "prevA    float64\n",
              "prevB    float64\n",
              "dtype: object"
            ]
          },
          "metadata": {
            "tags": []
          },
          "execution_count": 5
        }
      ]
    },
    {
      "cell_type": "code",
      "metadata": {
        "colab": {
          "base_uri": "https://localhost:8080/",
          "height": 407
        },
        "id": "b4xxcKvMunys",
        "outputId": "4d725a57-6eb0-420d-a798-d18467ef3339"
      },
      "source": [
        "plt.boxplot(df['f1'])\r\n"
      ],
      "execution_count": null,
      "outputs": [
        {
          "output_type": "execute_result",
          "data": {
            "text/plain": [
              "{'boxes': [<matplotlib.lines.Line2D at 0x7f385cdb9cf8>],\n",
              " 'caps': [<matplotlib.lines.Line2D at 0x7f385cdcd748>,\n",
              "  <matplotlib.lines.Line2D at 0x7f385cdcdac8>],\n",
              " 'fliers': [<matplotlib.lines.Line2D at 0x7f385cd57208>],\n",
              " 'means': [],\n",
              " 'medians': [<matplotlib.lines.Line2D at 0x7f385cdcde48>],\n",
              " 'whiskers': [<matplotlib.lines.Line2D at 0x7f385cdcd048>,\n",
              "  <matplotlib.lines.Line2D at 0x7f385cdcd3c8>]}"
            ]
          },
          "metadata": {
            "tags": []
          },
          "execution_count": 6
        },
        {
          "output_type": "display_data",
          "data": {
            "image/png": "[encoded data removed]",
            "text/plain": [
              "<Figure size 432x288 with 1 Axes>"
            ]
          },
          "metadata": {
            "tags": [],
            "needs_background": "light"
          }
        }
      ]
    },
    {
      "cell_type": "code",
      "metadata": {
        "id": "uxXMTjGqUDYn"
      },
      "source": [
        "df = df.drop(df[df['f1']>=2.5].index)"
      ],
      "execution_count": null,
      "outputs": []
    },
    {
      "cell_type": "code",
      "metadata": {
        "colab": {
          "base_uri": "https://localhost:8080/",
          "height": 407
        },
        "id": "0-sGKG-Nwmxw",
        "outputId": "da1f7d86-946a-4ad1-cc39-2237afd74f05"
      },
      "source": [
        "plt.boxplot(df['f2'])"
      ],
      "execution_count": null,
      "outputs": [
        {
          "output_type": "execute_result",
          "data": {
            "text/plain": [
              "{'boxes': [<matplotlib.lines.Line2D at 0x7f385cd4f710>],\n",
              " 'caps': [<matplotlib.lines.Line2D at 0x7f385c890160>,\n",
              "  <matplotlib.lines.Line2D at 0x7f385c8904e0>],\n",
              " 'fliers': [<matplotlib.lines.Line2D at 0x7f385c890be0>],\n",
              " 'means': [],\n",
              " 'medians': [<matplotlib.lines.Line2D at 0x7f385c890860>],\n",
              " 'whiskers': [<matplotlib.lines.Line2D at 0x7f385cd4fa20>,\n",
              "  <matplotlib.lines.Line2D at 0x7f385cd4fda0>]}"
            ]
          },
          "metadata": {
            "tags": []
          },
          "execution_count": 8
        },
        {
          "output_type": "display_data",
          "data": {
            "image/png": "[encoded data removed]",
            "text/plain": [
              "<Figure size 432x288 with 1 Axes>"
            ]
          },
          "metadata": {
            "tags": [],
            "needs_background": "light"
          }
        }
      ]
    },
    {
      "cell_type": "code",
      "metadata": {
        "colab": {
          "base_uri": "https://localhost:8080/",
          "height": 407
        },
        "id": "Eif_GMm3UfrB",
        "outputId": "a2c06b66-6d94-4874-adbe-c85108d543ce"
      },
      "source": [
        "plt.boxplot(df['f3'])"
      ],
      "execution_count": null,
      "outputs": [
        {
          "output_type": "execute_result",
          "data": {
            "text/plain": [
              "{'boxes': [<matplotlib.lines.Line2D at 0x7f385cd310b8>],\n",
              " 'caps': [<matplotlib.lines.Line2D at 0x7f385c8a8c50>,\n",
              "  <matplotlib.lines.Line2D at 0x7f385c8a8d30>],\n",
              " 'fliers': [<matplotlib.lines.Line2D at 0x7f385c8b3a58>],\n",
              " 'means': [],\n",
              " 'medians': [<matplotlib.lines.Line2D at 0x7f385c8b3048>],\n",
              " 'whiskers': [<matplotlib.lines.Line2D at 0x7f385c8c2ac8>,\n",
              "  <matplotlib.lines.Line2D at 0x7f385c89b6d8>]}"
            ]
          },
          "metadata": {
            "tags": []
          },
          "execution_count": 9
        },
        {
          "output_type": "display_data",
          "data": {
            "image/png": "[encoded data removed]",
            "text/plain": [
              "<Figure size 432x288 with 1 Axes>"
            ]
          },
          "metadata": {
            "tags": [],
            "needs_background": "light"
          }
        }
      ]
    },
    {
      "cell_type": "code",
      "metadata": {
        "id": "kXzCjPT4UuMy"
      },
      "source": [
        "df = df.drop(df[df['f3']>=10.5].index)"
      ],
      "execution_count": null,
      "outputs": []
    },
    {
      "cell_type": "code",
      "metadata": {
        "colab": {
          "base_uri": "https://localhost:8080/",
          "height": 194
        },
        "id": "JeCbqYgoXX1n",
        "outputId": "93e449fd-361a-43a8-a1e9-832afc086632"
      },
      "source": [
        "df.head(5)"
      ],
      "execution_count": null,
      "outputs": [
        {
          "output_type": "execute_result",
          "data": {
            "text/html": [
              "<div>\n",
              "<style scoped>\n",
              "    .dataframe tbody tr th:only-of-type {\n",
              "        vertical-align: middle;\n",
              "    }\n",
              "\n",
              "    .dataframe tbody tr th {\n",
              "        vertical-align: top;\n",
              "    }\n",
              "\n",
              "    .dataframe thead th {\n",
              "        text-align: right;\n",
              "    }\n",
              "</style>\n",
              "<table border=\"1\" class=\"dataframe\">\n",
              "  <thead>\n",
              "    <tr style=\"text-align: right;\">\n",
              "      <th></th>\n",
              "      <th>date</th>\n",
              "      <th>time</th>\n",
              "      <th>f4</th>\n",
              "      <th>f1</th>\n",
              "      <th>f2</th>\n",
              "      <th>f3</th>\n",
              "      <th>prevA</th>\n",
              "      <th>prevB</th>\n",
              "    </tr>\n",
              "  </thead>\n",
              "  <tbody>\n",
              "    <tr>\n",
              "      <th>0</th>\n",
              "      <td>1.578010e+09</td>\n",
              "      <td>12</td>\n",
              "      <td>0</td>\n",
              "      <td>0</td>\n",
              "      <td>0</td>\n",
              "      <td>10.060</td>\n",
              "      <td>0.955</td>\n",
              "      <td>1.0</td>\n",
              "    </tr>\n",
              "    <tr>\n",
              "      <th>1</th>\n",
              "      <td>1.578010e+09</td>\n",
              "      <td>21</td>\n",
              "      <td>1</td>\n",
              "      <td>0</td>\n",
              "      <td>0</td>\n",
              "      <td>10.052</td>\n",
              "      <td>0.955</td>\n",
              "      <td>1.0</td>\n",
              "    </tr>\n",
              "    <tr>\n",
              "      <th>2</th>\n",
              "      <td>1.578096e+09</td>\n",
              "      <td>13</td>\n",
              "      <td>2</td>\n",
              "      <td>0</td>\n",
              "      <td>0</td>\n",
              "      <td>10.040</td>\n",
              "      <td>0.955</td>\n",
              "      <td>1.0</td>\n",
              "    </tr>\n",
              "    <tr>\n",
              "      <th>3</th>\n",
              "      <td>1.578096e+09</td>\n",
              "      <td>17</td>\n",
              "      <td>3</td>\n",
              "      <td>0</td>\n",
              "      <td>1</td>\n",
              "      <td>10.028</td>\n",
              "      <td>0.955</td>\n",
              "      <td>1.0</td>\n",
              "    </tr>\n",
              "    <tr>\n",
              "      <th>4</th>\n",
              "      <td>1.578096e+09</td>\n",
              "      <td>23</td>\n",
              "      <td>4</td>\n",
              "      <td>0</td>\n",
              "      <td>1</td>\n",
              "      <td>10.067</td>\n",
              "      <td>0.955</td>\n",
              "      <td>1.0</td>\n",
              "    </tr>\n",
              "  </tbody>\n",
              "</table>\n",
              "</div>"
            ],
            "text/plain": [
              "           date  time  f4  f1  f2      f3  prevA  prevB\n",
              "0  1.578010e+09    12   0   0   0  10.060  0.955    1.0\n",
              "1  1.578010e+09    21   1   0   0  10.052  0.955    1.0\n",
              "2  1.578096e+09    13   2   0   0  10.040  0.955    1.0\n",
              "3  1.578096e+09    17   3   0   1  10.028  0.955    1.0\n",
              "4  1.578096e+09    23   4   0   1  10.067  0.955    1.0"
            ]
          },
          "metadata": {
            "tags": []
          },
          "execution_count": 11
        }
      ]
    },
    {
      "cell_type": "code",
      "metadata": {
        "colab": {
          "base_uri": "https://localhost:8080/",
          "height": 399
        },
        "id": "apviFGB0V_6w",
        "outputId": "9b3d28f6-6913-459e-fea8-8899f9979736"
      },
      "source": [
        "df['f1'].value_counts(normalize=True)*100\r\n",
        "df['f2'].value_counts(normalize=True)*100\r\n",
        "df['f3'].value_counts(normalize=True)*100\r\n",
        "df['f4'].value_counts(normalize=True)*100\r\n",
        "df"
      ],
      "execution_count": null,
      "outputs": [
        {
          "output_type": "execute_result",
          "data": {
            "text/html": [
              "<div>\n",
              "<style scoped>\n",
              "    .dataframe tbody tr th:only-of-type {\n",
              "        vertical-align: middle;\n",
              "    }\n",
              "\n",
              "    .dataframe tbody tr th {\n",
              "        vertical-align: top;\n",
              "    }\n",
              "\n",
              "    .dataframe thead th {\n",
              "        text-align: right;\n",
              "    }\n",
              "</style>\n",
              "<table border=\"1\" class=\"dataframe\">\n",
              "  <thead>\n",
              "    <tr style=\"text-align: right;\">\n",
              "      <th></th>\n",
              "      <th>date</th>\n",
              "      <th>time</th>\n",
              "      <th>f4</th>\n",
              "      <th>f1</th>\n",
              "      <th>f2</th>\n",
              "      <th>f3</th>\n",
              "      <th>prevA</th>\n",
              "      <th>prevB</th>\n",
              "    </tr>\n",
              "  </thead>\n",
              "  <tbody>\n",
              "    <tr>\n",
              "      <th>0</th>\n",
              "      <td>1.578010e+09</td>\n",
              "      <td>12</td>\n",
              "      <td>0</td>\n",
              "      <td>0</td>\n",
              "      <td>0</td>\n",
              "      <td>10.060</td>\n",
              "      <td>0.955</td>\n",
              "      <td>1.0</td>\n",
              "    </tr>\n",
              "    <tr>\n",
              "      <th>1</th>\n",
              "      <td>1.578010e+09</td>\n",
              "      <td>21</td>\n",
              "      <td>1</td>\n",
              "      <td>0</td>\n",
              "      <td>0</td>\n",
              "      <td>10.052</td>\n",
              "      <td>0.955</td>\n",
              "      <td>1.0</td>\n",
              "    </tr>\n",
              "    <tr>\n",
              "      <th>2</th>\n",
              "      <td>1.578096e+09</td>\n",
              "      <td>13</td>\n",
              "      <td>2</td>\n",
              "      <td>0</td>\n",
              "      <td>0</td>\n",
              "      <td>10.040</td>\n",
              "      <td>0.955</td>\n",
              "      <td>1.0</td>\n",
              "    </tr>\n",
              "    <tr>\n",
              "      <th>3</th>\n",
              "      <td>1.578096e+09</td>\n",
              "      <td>17</td>\n",
              "      <td>3</td>\n",
              "      <td>0</td>\n",
              "      <td>1</td>\n",
              "      <td>10.028</td>\n",
              "      <td>0.955</td>\n",
              "      <td>1.0</td>\n",
              "    </tr>\n",
              "    <tr>\n",
              "      <th>4</th>\n",
              "      <td>1.578096e+09</td>\n",
              "      <td>23</td>\n",
              "      <td>4</td>\n",
              "      <td>0</td>\n",
              "      <td>1</td>\n",
              "      <td>10.067</td>\n",
              "      <td>0.955</td>\n",
              "      <td>1.0</td>\n",
              "    </tr>\n",
              "    <tr>\n",
              "      <th>...</th>\n",
              "      <td>...</td>\n",
              "      <td>...</td>\n",
              "      <td>...</td>\n",
              "      <td>...</td>\n",
              "      <td>...</td>\n",
              "      <td>...</td>\n",
              "      <td>...</td>\n",
              "      <td>...</td>\n",
              "    </tr>\n",
              "    <tr>\n",
              "      <th>174</th>\n",
              "      <td>1.583194e+09</td>\n",
              "      <td>3</td>\n",
              "      <td>174</td>\n",
              "      <td>1</td>\n",
              "      <td>0</td>\n",
              "      <td>10.051</td>\n",
              "      <td>0.955</td>\n",
              "      <td>1.0</td>\n",
              "    </tr>\n",
              "    <tr>\n",
              "      <th>175</th>\n",
              "      <td>1.583194e+09</td>\n",
              "      <td>6</td>\n",
              "      <td>175</td>\n",
              "      <td>1</td>\n",
              "      <td>0</td>\n",
              "      <td>10.050</td>\n",
              "      <td>0.955</td>\n",
              "      <td>0.0</td>\n",
              "    </tr>\n",
              "    <tr>\n",
              "      <th>176</th>\n",
              "      <td>1.583194e+09</td>\n",
              "      <td>10</td>\n",
              "      <td>176</td>\n",
              "      <td>1</td>\n",
              "      <td>0</td>\n",
              "      <td>10.074</td>\n",
              "      <td>0.955</td>\n",
              "      <td>0.0</td>\n",
              "    </tr>\n",
              "    <tr>\n",
              "      <th>177</th>\n",
              "      <td>1.583194e+09</td>\n",
              "      <td>19</td>\n",
              "      <td>177</td>\n",
              "      <td>1</td>\n",
              "      <td>0</td>\n",
              "      <td>10.050</td>\n",
              "      <td>0.955</td>\n",
              "      <td>0.0</td>\n",
              "    </tr>\n",
              "    <tr>\n",
              "      <th>178</th>\n",
              "      <td>1.583194e+09</td>\n",
              "      <td>22</td>\n",
              "      <td>178</td>\n",
              "      <td>1</td>\n",
              "      <td>0</td>\n",
              "      <td>10.031</td>\n",
              "      <td>0.955</td>\n",
              "      <td>0.0</td>\n",
              "    </tr>\n",
              "  </tbody>\n",
              "</table>\n",
              "<p>177 rows × 8 columns</p>\n",
              "</div>"
            ],
            "text/plain": [
              "             date  time   f4  f1  f2      f3  prevA  prevB\n",
              "0    1.578010e+09    12    0   0   0  10.060  0.955    1.0\n",
              "1    1.578010e+09    21    1   0   0  10.052  0.955    1.0\n",
              "2    1.578096e+09    13    2   0   0  10.040  0.955    1.0\n",
              "3    1.578096e+09    17    3   0   1  10.028  0.955    1.0\n",
              "4    1.578096e+09    23    4   0   1  10.067  0.955    1.0\n",
              "..            ...   ...  ...  ..  ..     ...    ...    ...\n",
              "174  1.583194e+09     3  174   1   0  10.051  0.955    1.0\n",
              "175  1.583194e+09     6  175   1   0  10.050  0.955    0.0\n",
              "176  1.583194e+09    10  176   1   0  10.074  0.955    0.0\n",
              "177  1.583194e+09    19  177   1   0  10.050  0.955    0.0\n",
              "178  1.583194e+09    22  178   1   0  10.031  0.955    0.0\n",
              "\n",
              "[177 rows x 8 columns]"
            ]
          },
          "metadata": {
            "tags": []
          },
          "execution_count": 12
        }
      ]
    },
    {
      "cell_type": "code",
      "metadata": {
        "colab": {
          "base_uri": "https://localhost:8080/",
          "height": 884
        },
        "id": "s5iAMFasL4qp",
        "outputId": "aa184307-05c1-4b3d-a94a-fdf25836fe38"
      },
      "source": [
        "plt.figure(figsize=(15,15))\r\n",
        "sns.heatmap(df.corr(),annot=True)"
      ],
      "execution_count": null,
      "outputs": [
        {
          "output_type": "execute_result",
          "data": {
            "text/plain": [
              "<matplotlib.axes._subplots.AxesSubplot at 0x7f385d899ac8>"
            ]
          },
          "metadata": {
            "tags": []
          },
          "execution_count": 13
        },
        {
          "output_type": "display_data",
          "data": {
            "image/png": "[encoded data removed]",
            "text/plain": [
              "<Figure size 1080x1080 with 2 Axes>"
            ]
          },
          "metadata": {
            "tags": [],
            "needs_background": "light"
          }
        }
      ]
    },
    {
      "cell_type": "code",
      "metadata": {
        "colab": {
          "base_uri": "https://localhost:8080/",
          "height": 399
        },
        "id": "k9LPB5u5ZXEV",
        "outputId": "a4022fb6-e9a9-4838-a4d4-4057b6ff6e8c"
      },
      "source": [
        "X = df.drop([\"prevA\", \"prevB\", \"date\", \"time\", \"f2\"], axis =\"columns\")\r\n",
        "X"
      ],
      "execution_count": null,
      "outputs": [
        {
          "output_type": "execute_result",
          "data": {
            "text/html": [
              "<div>\n",
              "<style scoped>\n",
              "    .dataframe tbody tr th:only-of-type {\n",
              "        vertical-align: middle;\n",
              "    }\n",
              "\n",
              "    .dataframe tbody tr th {\n",
              "        vertical-align: top;\n",
              "    }\n",
              "\n",
              "    .dataframe thead th {\n",
              "        text-align: right;\n",
              "    }\n",
              "</style>\n",
              "<table border=\"1\" class=\"dataframe\">\n",
              "  <thead>\n",
              "    <tr style=\"text-align: right;\">\n",
              "      <th></th>\n",
              "      <th>f4</th>\n",
              "      <th>f1</th>\n",
              "      <th>f3</th>\n",
              "    </tr>\n",
              "  </thead>\n",
              "  <tbody>\n",
              "    <tr>\n",
              "      <th>0</th>\n",
              "      <td>0</td>\n",
              "      <td>0</td>\n",
              "      <td>10.060</td>\n",
              "    </tr>\n",
              "    <tr>\n",
              "      <th>1</th>\n",
              "      <td>1</td>\n",
              "      <td>0</td>\n",
              "      <td>10.052</td>\n",
              "    </tr>\n",
              "    <tr>\n",
              "      <th>2</th>\n",
              "      <td>2</td>\n",
              "      <td>0</td>\n",
              "      <td>10.040</td>\n",
              "    </tr>\n",
              "    <tr>\n",
              "      <th>3</th>\n",
              "      <td>3</td>\n",
              "      <td>0</td>\n",
              "      <td>10.028</td>\n",
              "    </tr>\n",
              "    <tr>\n",
              "      <th>4</th>\n",
              "      <td>4</td>\n",
              "      <td>0</td>\n",
              "      <td>10.067</td>\n",
              "    </tr>\n",
              "    <tr>\n",
              "      <th>...</th>\n",
              "      <td>...</td>\n",
              "      <td>...</td>\n",
              "      <td>...</td>\n",
              "    </tr>\n",
              "    <tr>\n",
              "      <th>174</th>\n",
              "      <td>174</td>\n",
              "      <td>1</td>\n",
              "      <td>10.051</td>\n",
              "    </tr>\n",
              "    <tr>\n",
              "      <th>175</th>\n",
              "      <td>175</td>\n",
              "      <td>1</td>\n",
              "      <td>10.050</td>\n",
              "    </tr>\n",
              "    <tr>\n",
              "      <th>176</th>\n",
              "      <td>176</td>\n",
              "      <td>1</td>\n",
              "      <td>10.074</td>\n",
              "    </tr>\n",
              "    <tr>\n",
              "      <th>177</th>\n",
              "      <td>177</td>\n",
              "      <td>1</td>\n",
              "      <td>10.050</td>\n",
              "    </tr>\n",
              "    <tr>\n",
              "      <th>178</th>\n",
              "      <td>178</td>\n",
              "      <td>1</td>\n",
              "      <td>10.031</td>\n",
              "    </tr>\n",
              "  </tbody>\n",
              "</table>\n",
              "<p>177 rows × 3 columns</p>\n",
              "</div>"
            ],
            "text/plain": [
              "      f4  f1      f3\n",
              "0      0   0  10.060\n",
              "1      1   0  10.052\n",
              "2      2   0  10.040\n",
              "3      3   0  10.028\n",
              "4      4   0  10.067\n",
              "..   ...  ..     ...\n",
              "174  174   1  10.051\n",
              "175  175   1  10.050\n",
              "176  176   1  10.074\n",
              "177  177   1  10.050\n",
              "178  178   1  10.031\n",
              "\n",
              "[177 rows x 3 columns]"
            ]
          },
          "metadata": {
            "tags": []
          },
          "execution_count": 14
        }
      ]
    },
    {
      "cell_type": "code",
      "metadata": {
        "colab": {
          "base_uri": "https://localhost:8080/"
        },
        "id": "uJjeldojZhov",
        "outputId": "4601c07a-1ba9-4825-e3ba-60f925a84f31"
      },
      "source": [
        "y = df.prevA\r\n",
        "y"
      ],
      "execution_count": null,
      "outputs": [
        {
          "output_type": "execute_result",
          "data": {
            "text/plain": [
              "0      0.955\n",
              "1      0.955\n",
              "2      0.955\n",
              "3      0.955\n",
              "4      0.955\n",
              "       ...  \n",
              "174    0.955\n",
              "175    0.955\n",
              "176    0.955\n",
              "177    0.955\n",
              "178    0.955\n",
              "Name: prevA, Length: 177, dtype: float64"
            ]
          },
          "metadata": {
            "tags": []
          },
          "execution_count": 15
        }
      ]
    },
    {
      "cell_type": "code",
      "metadata": {
        "id": "lqqHOS_3Y9Zl"
      },
      "source": [
        "X_train, X_test, y_train, y_test = train_test_split(X, y, test_size=0.2, random_state=2)"
      ],
      "execution_count": null,
      "outputs": []
    },
    {
      "cell_type": "code",
      "metadata": {
        "colab": {
          "base_uri": "https://localhost:8080/"
        },
        "id": "YGKnaiVxYvGm",
        "outputId": "fab77ddb-2d67-4ac0-a414-02be39690d2e"
      },
      "source": [
        "parameters = [{'kernel': ['poly', 'linear', 'rbf'], 'C': [0.1, 1, 10, 100, 1000], 'gamma': [ 1e-4, 1e-3]}]\r\n",
        "clf = GridSearchCV(svm.SVR(), parameters)\r\n",
        "clf.fit(X_train, y_train)"
      ],
      "execution_count": null,
      "outputs": [
        {
          "output_type": "execute_result",
          "data": {
            "text/plain": [
              "GridSearchCV(cv=None, error_score=nan,\n",
              "             estimator=SVR(C=1.0, cache_size=200, coef0=0.0, degree=3,\n",
              "                           epsilon=0.1, gamma='scale', kernel='rbf',\n",
              "                           max_iter=-1, shrinking=True, tol=0.001,\n",
              "                           verbose=False),\n",
              "             iid='deprecated', n_jobs=None,\n",
              "             param_grid=[{'C': [0.1, 1, 10, 100, 1000],\n",
              "                          'gamma': [0.0001, 0.001],\n",
              "                          'kernel': ['poly', 'linear', 'rbf']}],\n",
              "             pre_dispatch='2*n_jobs', refit=True, return_train_score=False,\n",
              "             scoring=None, verbose=0)"
            ]
          },
          "metadata": {
            "tags": []
          },
          "execution_count": 17
        }
      ]
    },
    {
      "cell_type": "code",
      "metadata": {
        "colab": {
          "base_uri": "https://localhost:8080/"
        },
        "id": "ApuA8khetj2U",
        "outputId": "43539466-5bf7-4c55-b34e-b5ba98fc8cdf"
      },
      "source": [
        "print(clf.best_params_)"
      ],
      "execution_count": null,
      "outputs": [
        {
          "output_type": "stream",
          "text": [
            "{'C': 0.1, 'gamma': 0.0001, 'kernel': 'poly'}\n"
          ],
          "name": "stdout"
        }
      ]
    },
    {
      "cell_type": "code",
      "metadata": {
        "colab": {
          "base_uri": "https://localhost:8080/"
        },
        "id": "_2lrE1yatk2J",
        "outputId": "6c169e64-153c-4872-acaf-0d0edc995bb2"
      },
      "source": [
        "print(clf.best_score_)"
      ],
      "execution_count": null,
      "outputs": [
        {
          "output_type": "stream",
          "text": [
            "-0.05787933218500259\n"
          ],
          "name": "stdout"
        }
      ]
    },
    {
      "cell_type": "code",
      "metadata": {
        "id": "jq5_XYo9vR11"
      },
      "source": [
        "pred_clf = clf.predict(X_test)"
      ],
      "execution_count": null,
      "outputs": []
    },
    {
      "cell_type": "code",
      "metadata": {
        "colab": {
          "base_uri": "https://localhost:8080/"
        },
        "id": "K8bNKxkRoRSU",
        "outputId": "9f616a40-19c9-4fb1-8749-d23e2eb4df45"
      },
      "source": [
        "from sklearn.metrics import mean_squared_error\r\n",
        "mean_squared_error(y_test,pred_clf)"
      ],
      "execution_count": null,
      "outputs": [
        {
          "output_type": "execute_result",
          "data": {
            "text/plain": [
              "1.2499999999999592e-06"
            ]
          },
          "metadata": {
            "tags": []
          },
          "execution_count": 21
        }
      ]
    },
    {
      "cell_type": "code",
      "metadata": {
        "id": "UQQ9e1n4xWY9"
      },
      "source": [
        "y_test = y_test.reset_index()"
      ],
      "execution_count": null,
      "outputs": []
    },
    {
      "cell_type": "code",
      "metadata": {
        "colab": {
          "base_uri": "https://localhost:8080/",
          "height": 274
        },
        "id": "i2HqT1SdvMBv",
        "outputId": "b6754724-3eb5-454c-d1ac-d47f5b755f21"
      },
      "source": [
        "pred_clf = pd.DataFrame(pred_clf)\r\n",
        "\r\n",
        "pd.concat([ pred_clf, y_test.prevA], axis = 1).plot(linewidth = 1,  fontsize=20)\r\n",
        "plt.legend([\"Predito\",\"Real\"], fontsize=20)\r\n",
        "plt.show()\r\n"
      ],
      "execution_count": null,
      "outputs": [
        {
          "output_type": "display_data",
          "data": {
            "image/png": "[encoded data removed]",
            "text/plain": [
              "<Figure size 432x288 with 1 Axes>"
            ]
          },
          "metadata": {
            "tags": [],
            "needs_background": "light"
          }
        }
      ]
    },
    {
      "cell_type": "markdown",
      "metadata": {
        "id": "8RuXALXGkVeA"
      },
      "source": [
        "### **Classificação**"
      ]
    },
    {
      "cell_type": "code",
      "metadata": {
        "colab": {
          "base_uri": "https://localhost:8080/",
          "height": 399
        },
        "id": "1DbAeGI-sPVr",
        "outputId": "702cdc58-e75d-4f27-be02-ee2c86f6b824"
      },
      "source": [
        "X = df.drop([\"prevA\", \"prevB\", \"date\", \"time\", \"f3\",  \"f1\"], axis =\"columns\")\r\n",
        "X"
      ],
      "execution_count": null,
      "outputs": [
        {
          "output_type": "execute_result",
          "data": {
            "text/html": [
              "<div>\n",
              "<style scoped>\n",
              "    .dataframe tbody tr th:only-of-type {\n",
              "        vertical-align: middle;\n",
              "    }\n",
              "\n",
              "    .dataframe tbody tr th {\n",
              "        vertical-align: top;\n",
              "    }\n",
              "\n",
              "    .dataframe thead th {\n",
              "        text-align: right;\n",
              "    }\n",
              "</style>\n",
              "<table border=\"1\" class=\"dataframe\">\n",
              "  <thead>\n",
              "    <tr style=\"text-align: right;\">\n",
              "      <th></th>\n",
              "      <th>f4</th>\n",
              "      <th>f2</th>\n",
              "    </tr>\n",
              "  </thead>\n",
              "  <tbody>\n",
              "    <tr>\n",
              "      <th>0</th>\n",
              "      <td>0</td>\n",
              "      <td>0</td>\n",
              "    </tr>\n",
              "    <tr>\n",
              "      <th>1</th>\n",
              "      <td>1</td>\n",
              "      <td>0</td>\n",
              "    </tr>\n",
              "    <tr>\n",
              "      <th>2</th>\n",
              "      <td>2</td>\n",
              "      <td>0</td>\n",
              "    </tr>\n",
              "    <tr>\n",
              "      <th>3</th>\n",
              "      <td>3</td>\n",
              "      <td>1</td>\n",
              "    </tr>\n",
              "    <tr>\n",
              "      <th>4</th>\n",
              "      <td>4</td>\n",
              "      <td>1</td>\n",
              "    </tr>\n",
              "    <tr>\n",
              "      <th>...</th>\n",
              "      <td>...</td>\n",
              "      <td>...</td>\n",
              "    </tr>\n",
              "    <tr>\n",
              "      <th>174</th>\n",
              "      <td>174</td>\n",
              "      <td>0</td>\n",
              "    </tr>\n",
              "    <tr>\n",
              "      <th>175</th>\n",
              "      <td>175</td>\n",
              "      <td>0</td>\n",
              "    </tr>\n",
              "    <tr>\n",
              "      <th>176</th>\n",
              "      <td>176</td>\n",
              "      <td>0</td>\n",
              "    </tr>\n",
              "    <tr>\n",
              "      <th>177</th>\n",
              "      <td>177</td>\n",
              "      <td>0</td>\n",
              "    </tr>\n",
              "    <tr>\n",
              "      <th>178</th>\n",
              "      <td>178</td>\n",
              "      <td>0</td>\n",
              "    </tr>\n",
              "  </tbody>\n",
              "</table>\n",
              "<p>177 rows × 2 columns</p>\n",
              "</div>"
            ],
            "text/plain": [
              "      f4  f2\n",
              "0      0   0\n",
              "1      1   0\n",
              "2      2   0\n",
              "3      3   1\n",
              "4      4   1\n",
              "..   ...  ..\n",
              "174  174   0\n",
              "175  175   0\n",
              "176  176   0\n",
              "177  177   0\n",
              "178  178   0\n",
              "\n",
              "[177 rows x 2 columns]"
            ]
          },
          "metadata": {
            "tags": []
          },
          "execution_count": 24
        }
      ]
    },
    {
      "cell_type": "code",
      "metadata": {
        "colab": {
          "base_uri": "https://localhost:8080/"
        },
        "id": "eNMzOHJksRuy",
        "outputId": "ab0fb272-4094-49ab-e4a0-73c5288c17ba"
      },
      "source": [
        "y = df.prevB\r\n",
        "y"
      ],
      "execution_count": null,
      "outputs": [
        {
          "output_type": "execute_result",
          "data": {
            "text/plain": [
              "0      1.0\n",
              "1      1.0\n",
              "2      1.0\n",
              "3      1.0\n",
              "4      1.0\n",
              "      ... \n",
              "174    1.0\n",
              "175    0.0\n",
              "176    0.0\n",
              "177    0.0\n",
              "178    0.0\n",
              "Name: prevB, Length: 177, dtype: float64"
            ]
          },
          "metadata": {
            "tags": []
          },
          "execution_count": 25
        }
      ]
    },
    {
      "cell_type": "code",
      "metadata": {
        "id": "df0BpeEDt0Xv"
      },
      "source": [
        "X_train, X_test, y_train, y_test = train_test_split(X, y, test_size=0.2, random_state=2)"
      ],
      "execution_count": null,
      "outputs": []
    },
    {
      "cell_type": "code",
      "metadata": {
        "colab": {
          "base_uri": "https://localhost:8080/"
        },
        "id": "PhQzpcAJsYGh",
        "outputId": "f7282558-449d-4a98-8bcd-653afd4ab7eb"
      },
      "source": [
        "clf = GridSearchCV(svm.SVC(), parameters)\r\n",
        "clf.fit(X_train, y_train)"
      ],
      "execution_count": null,
      "outputs": [
        {
          "output_type": "stream",
          "text": [
            "/usr/local/lib/python3.6/dist-packages/sklearn/model_selection/_split.py:667: UserWarning: The least populated class in y has only 3 members, which is less than n_splits=5.\n",
            "  % (min_groups, self.n_splits)), UserWarning)\n"
          ],
          "name": "stderr"
        },
        {
          "output_type": "execute_result",
          "data": {
            "text/plain": [
              "GridSearchCV(cv=None, error_score=nan,\n",
              "             estimator=SVC(C=1.0, break_ties=False, cache_size=200,\n",
              "                           class_weight=None, coef0=0.0,\n",
              "                           decision_function_shape='ovr', degree=3,\n",
              "                           gamma='scale', kernel='rbf', max_iter=-1,\n",
              "                           probability=False, random_state=None, shrinking=True,\n",
              "                           tol=0.001, verbose=False),\n",
              "             iid='deprecated', n_jobs=None,\n",
              "             param_grid=[{'C': [0.1, 1, 10, 100, 1000],\n",
              "                          'gamma': [0.0001, 0.001],\n",
              "                          'kernel': ['poly', 'linear', 'rbf']}],\n",
              "             pre_dispatch='2*n_jobs', refit=True, return_train_score=False,\n",
              "             scoring=None, verbose=0)"
            ]
          },
          "metadata": {
            "tags": []
          },
          "execution_count": 27
        }
      ]
    },
    {
      "cell_type": "code",
      "metadata": {
        "id": "rTlSMFo-vIpS"
      },
      "source": [
        "classificao = clf.predict(X_test)"
      ],
      "execution_count": null,
      "outputs": []
    },
    {
      "cell_type": "code",
      "metadata": {
        "colab": {
          "base_uri": "https://localhost:8080/"
        },
        "id": "rxYT6xwIvT2v",
        "outputId": "139d9fb6-619e-4826-fabb-c9719fd61edd"
      },
      "source": [
        "acuracia = accuracy_score(y_test,classificao)\r\n",
        "acuracia"
      ],
      "execution_count": null,
      "outputs": [
        {
          "output_type": "execute_result",
          "data": {
            "text/plain": [
              "1.0"
            ]
          },
          "metadata": {
            "tags": []
          },
          "execution_count": 29
        }
      ]
    },
    {
      "cell_type": "code",
      "metadata": {
        "colab": {
          "base_uri": "https://localhost:8080/"
        },
        "id": "FYqvkj_HvXmj",
        "outputId": "6f301049-30b2-424d-c88a-606bd5a521ff"
      },
      "source": [
        "precisao = precision_score(y_test,classificao)\r\n",
        "precisao"
      ],
      "execution_count": null,
      "outputs": [
        {
          "output_type": "execute_result",
          "data": {
            "text/plain": [
              "1.0"
            ]
          },
          "metadata": {
            "tags": []
          },
          "execution_count": 30
        }
      ]
    },
    {
      "cell_type": "code",
      "metadata": {
        "colab": {
          "base_uri": "https://localhost:8080/"
        },
        "id": "X8v7gHBwvaid",
        "outputId": "9908355e-f5b5-4949-9b9d-154b015bd40f"
      },
      "source": [
        "recall = recall_score(y_test,classificao)\r\n",
        "recall"
      ],
      "execution_count": null,
      "outputs": [
        {
          "output_type": "execute_result",
          "data": {
            "text/plain": [
              "1.0"
            ]
          },
          "metadata": {
            "tags": []
          },
          "execution_count": 31
        }
      ]
    },
    {
      "cell_type": "code",
      "metadata": {
        "colab": {
          "base_uri": "https://localhost:8080/",
          "height": 295
        },
        "id": "EqncPwoIvcq7",
        "outputId": "381397fb-1844-41f9-8c87-342a41d92265"
      },
      "source": [
        "fpr, tpr, _ = roc_curve(y_test,classificao)\r\n",
        "plt.plot(fpr,tpr,marker='.')\r\n",
        "plt.title('Curva ROC')\r\n",
        "plt.xlabel('Taxa de Falsos Positivos')\r\n",
        "plt.ylabel('Taxa de Verdadeiro Positivos')\r\n",
        "plt.show()"
      ],
      "execution_count": null,
      "outputs": [
        {
          "output_type": "display_data",
          "data": {
            "image/png": "[encoded data removed]",
            "text/plain": [
              "<Figure size 432x288 with 1 Axes>"
            ]
          },
          "metadata": {
            "tags": [],
            "needs_background": "light"
          }
        }
      ]
    },
    {
      "cell_type": "markdown",
      "metadata": {
        "id": "JVcmiEXZv1PR"
      },
      "source": [
        "## **Conclusão** \r\n",
        "1. Os valores para X e y foram baseados na matrix correlação.\r\n",
        "2. Poderia aplicar técnicas para cirar mais valores e melhorar o modelo (nao deu tempo).\r\n"
      ]
    }
  ]
}