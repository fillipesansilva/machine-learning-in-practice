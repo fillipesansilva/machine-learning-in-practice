{
  "nbformat": 4,
  "nbformat_minor": 0,
  "metadata": {
    "colab": {
      "name": "exec1.ipynb",
      "provenance": [],
      "collapsed_sections": [],
      "authorship_tag": "ABX9TyOuLnd/UAhKnM0BqfbMbfvY",
      "include_colab_link": true
    },
    "kernelspec": {
      "name": "python3",
      "display_name": "Python 3"
    }
  },
  "cells": [
    {
      "cell_type": "markdown",
      "metadata": {
        "id": "view-in-github",
        "colab_type": "text"
      },
      "source": [
        "<a href=\"https://colab.research.google.com/github/fillipesansilva/Livraria/blob/master/exec1.ipynb\" target=\"_parent\"><img src=\"https://colab.research.google.com/assets/colab-badge.svg\" alt=\"Open In Colab\"/></a>"
      ]
    },
    {
      "cell_type": "code",
      "metadata": {
        "id": "Q5v-RvKtdLrl",
        "colab_type": "code",
        "colab": {
          "base_uri": "https://localhost:8080/",
          "height": 34
        },
        "outputId": "4a663e23-641f-4581-a811-d7010db402ec"
      },
      "source": [
        "from google.colab import drive\n",
        "drive.mount('/content/drive')"
      ],
      "execution_count": null,
      "outputs": [
        {
          "output_type": "stream",
          "text": [
            "Drive already mounted at /content/drive; to attempt to forcibly remount, call drive.mount(\"/content/drive\", force_remount=True).\n"
          ],
          "name": "stdout"
        }
      ]
    },
    {
      "cell_type": "markdown",
      "metadata": {
        "id": "wBxiNQv6qdF8",
        "colab_type": "text"
      },
      "source": [
        "Dataset: https://www.nature.com/articles/sdata201555\n",
        "\n",
        "This dataset contains two months of network traffic data (November/2013 to December/2013).\n",
        "The area is composed of a grid overlay of 10.000 squares with a size of about 235 $\\times$ 235 meters.\n",
        "Every time a mobile user engages a telecommunication interaction to a Radio Base Station (RBS), a Call Detail Record (CDR) is recorded.\n",
        "This information is then compiled into 10-minute intervals.\n",
        "\n",
        "\n",
        "*We using only 1 grid in this experiment (grid1).\n",
        "\n",
        "*First colmun = network traffic (amount of CDR)\n",
        "\n",
        "*Second colmun = timestamp"
      ]
    },
    {
      "cell_type": "code",
      "metadata": {
        "id": "7Rsk091epbhY",
        "colab_type": "code",
        "colab": {
          "base_uri": "https://localhost:8080/",
          "height": 185
        },
        "outputId": "51a82c59-3ea9-4431-a722-556f15bed8f4"
      },
      "source": [
        "count = 0\n",
        "with open(\"/content/drive/My Drive/Colab Notebooks/semana1/grid1\") as grid:\n",
        "  for line in grid:\n",
        "    print(line.rstrip())\n",
        "    count +=1\n",
        "    if count == 10: break"
      ],
      "execution_count": null,
      "outputs": [
        {
          "output_type": "stream",
          "text": [
            "11.028366381681,???\n",
            "11.1271008756737,AAA\n",
            "10.8927706027911,CC\n",
            "8.62242459098975,DD\n",
            "8.00992746244576,EE\n",
            "8.1184195540896,2013-11-01 00:50:00\n",
            "8.02626974851215,2013-11-01 01:00:00\n",
            "8.51417857718389,2013-11-01 01:10:00\n",
            "6.83342489638405,2013-11-01 01:20:00\n",
            "6.55460504454769,FFF\n"
          ],
          "name": "stdout"
        }
      ]
    },
    {
      "cell_type": "markdown",
      "metadata": {
        "id": "TxRbCqzzlaA6",
        "colab_type": "text"
      },
      "source": [
        "\n",
        "(Missing data) -  The \"second\" colmun must be a timestamp YYYY-MM-DD HH::MM::ss, not \"???\", \"AAA\", \"CC\".\n",
        "\n",
        "*timestamp start from 2013-11-01 00:00:00 to 2014-01-01 23:50:00.\n",
        "\n",
        "Solution:"
      ]
    },
    {
      "cell_type": "code",
      "metadata": {
        "id": "9uLYpjnKg4WY",
        "colab_type": "code",
        "colab": {
          "base_uri": "https://localhost:8080/",
          "height": 34
        },
        "outputId": "dff76b04-4065-486b-8e2f-04d59809bf22"
      },
      "source": [
        "import numpy as np\n",
        "import datetime\n",
        "\n",
        "#LINES: 8928\n",
        "\n",
        "possibilidades = []\n",
        "for x in range(1383264000, 1388620200 + 1, 600):\n",
        "\tpossibilidades.append(float(x))\n",
        "\n",
        "for i in range(1,2):\n",
        "\n",
        "\tpath = \"/content/drive/My Drive/Colab Notebooks/semana1/grid\"+ str(i)\n",
        "\tpathw = \"/content/drive/My Drive/Colab Notebooks/semana1/new_grid\"+ str(i)\n",
        "\t\n",
        "\tn_grid = open(pathw, \"w\")\n",
        "\n",
        "\tprint(i)\n",
        "\n",
        "\twith open(path, \"r\") as grid:\n",
        "\t\tfor gr in grid:\n",
        "\n",
        "\t\t\ttry:\n",
        "\t\t\t\tgr = gr.rstrip().split(\",\")\n",
        "\t\t\t\trequest = float(gr[0])\n",
        "\t\t\t\tdate = gr[1]\n",
        "\t\t\t\tdatetime.datetime.strptime(date, '%Y-%m-%d %H:%M:%S')\n",
        "\t\t\t\tn_grid.write(gr[0] + \",\" + gr[1]  + \"\\n\")\n",
        "\t\t\texcept:\n",
        "\t\t\t\tcontinue\n",
        "\n",
        "\tgrid.close()\n",
        "\tn_grid.close()\n",
        "\n",
        "\tdf = open(pathw, \"r\")\n",
        "\tn_linhas = sum(1 for linha in df)\n",
        "\tdf.close()\n",
        "\n",
        "\tif(n_linhas != 8928):\n",
        "\t\n",
        "\t\ttimestamp = []\n",
        "\t\tdata = open(pathw, \"r\")\n",
        "\t\n",
        "\t\tfor dt in data:\n",
        "\t\t\tts = dt.split(\",\")[1].rstrip()\n",
        "\t\t\ttimestamp.append(ts)\n",
        "\t\t\n",
        "\t\tdata.close()\n",
        "\n",
        "\t\twith open(pathw, \"a\") as gridw:\n",
        "\t\t\tfor pos in possibilidades:\n",
        "\t\t\t\tpos = datetime.datetime.utcfromtimestamp(pos).strftime('%Y-%m-%d %H:%M:%S')\n",
        "\t\t\t\tif pos not in timestamp:\n",
        "\t\t\t\t\tgridw.write(\"0,\" + pos + \"\\n\")\n",
        "\t\t\tgridw.close()\n",
        "\n",
        "\n"
      ],
      "execution_count": null,
      "outputs": [
        {
          "output_type": "stream",
          "text": [
            "1\n"
          ],
          "name": "stdout"
        }
      ]
    },
    {
      "cell_type": "markdown",
      "metadata": {
        "id": "8N-h3bqkqjSc",
        "colab_type": "text"
      },
      "source": [
        "Resultado: arquivo \"new_grid\" gerado contendo todas as informações de timestamp de 2013-11-01 00:00:00 até 2014-01-01 23:50:00.\n",
        "\n",
        "\n",
        "Além do problema do timestamp, alguns arquivos \"grids\" não contém valores de volume de tráfego para determinado timestamp (círculos em vermelho em https://prnt.sc/u45mz6). \n",
        "Para resolver isso, utilizei a média do volume de tráfego das grids vizinhas (https://prnt.sc/u45n66).\n",
        "\n",
        "* A média foi utlizado por notar o mesmo comportamento do volume do tráfego das celulas vizinhas, quando analisado o tráfego da rede como uma série temporal.\n",
        "\n",
        "* Não disponibilizei essa parte porque o cálculo é feito utlizando 10.000 datasets, que ultrapassa o limite de armazenamento disponilizado pelo colab.\n",
        "\n"
      ]
    },
    {
      "cell_type": "code",
      "metadata": {
        "id": "w6UiiGPWrPGx",
        "colab_type": "code",
        "colab": {}
      },
      "source": [
        ""
      ],
      "execution_count": null,
      "outputs": []
    }
  ]
}